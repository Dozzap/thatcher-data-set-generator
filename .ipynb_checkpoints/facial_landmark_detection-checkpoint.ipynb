{
 "cells": [
  {
   "cell_type": "code",
   "execution_count": null,
   "id": "8172981c-b1ee-4ab5-8d8f-5bfa4f9ada26",
   "metadata": {},
   "outputs": [],
   "source": [
    "from imutils import face_utils\n",
    "import numpy as np\n",
    "import imutils\n",
    "import dlib\n",
    "import cv2\n",
    "import matplotlib.pyplot as plt\n",
    "import os\n",
    "\n",
    "SHAPE_DETECTOR_PATH = \"shape_predictor_68_face_landmarks.dat\"\n",
    "\n",
    "if not os.path.exists(SHAPE_DETECTOR_PATH):\n",
    "    raise FileNotFoundError(f\"Model file not found at {SHAPE_DETECTOR_PATH}\")\n",
    "\n",
    "detector = dlib.get_frontal_face_detector()\n",
    "predictor = dlib.shape_predictor(SHAPE_DETECTOR_PATH)\n",
    "\n",
    "def get_image_facial_landmarks(image_path):\n",
    "\tret = []\n",
    "\n",
    "\timage = plt.imread(image_path)\n",
    "\tgray = cv2.cvtColor(image, cv2.COLOR_BGR2GRAY)\n",
    "\n",
    "\trects = detector(gray, 1)\n",
    "\n",
    "\tfor (i, rect) in enumerate(rects):\n",
    "\t\tshape = predictor(gray, rect)\n",
    "\t\tshape = face_utils.shape_to_np(shape)\n",
    "\n",
    "\t\tfor (x, y) in shape:\n",
    "\t\t\tret.append((x, y))\n",
    "\n",
    "\treturn ret\n"
   ]
  }
 ],
 "metadata": {
  "kernelspec": {
   "display_name": "Python [conda env:base] *",
   "language": "python",
   "name": "conda-base-py"
  },
  "language_info": {
   "codemirror_mode": {
    "name": "ipython",
    "version": 3
   },
   "file_extension": ".py",
   "mimetype": "text/x-python",
   "name": "python",
   "nbconvert_exporter": "python",
   "pygments_lexer": "ipython3",
   "version": "3.12.7"
  }
 },
 "nbformat": 4,
 "nbformat_minor": 5
}
